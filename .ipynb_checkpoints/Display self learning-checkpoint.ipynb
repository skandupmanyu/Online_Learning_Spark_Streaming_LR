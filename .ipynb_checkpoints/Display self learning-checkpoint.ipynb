{
 "cells": [
  {
   "cell_type": "code",
   "execution_count": null,
   "metadata": {},
   "outputs": [],
   "source": [
    "import pymysql\n",
    "import pandas as pd\n",
    "import numpy as np\n",
    "from matplotlib import pyplot as plt\n",
    "from IPython import display\n",
    "from IPython.display import clear_output\n",
    "from matplotlib.pyplot import figure\n",
    "import time\n",
    "\n",
    "while(True):\n",
    "    \n",
    "    conn = pymysql.connect(\n",
    "    host='localhost',\n",
    "    port=int(3306),\n",
    "    user=\"root\",\n",
    "    passwd='password',\n",
    "    db=\"LR\",\n",
    "    charset='utf8mb4')\n",
    "\n",
    "    coefficients = pd.read_sql_query(\"SELECT * FROM coefficients\", conn)\n",
    "\n",
    "    data_table = pd.read_sql_query(\"SELECT * FROM data_table\", conn)\n",
    "\n",
    "    predictions = pd.read_sql_query(\"SELECT * FROM predictions\", conn)\n",
    "    \n",
    "    if(coefficients.shape[0] > 0 and data_table.shape[0] > 0 and predictions.shape[0] > 0):\n",
    "        f, (ax1, ax2) = plt.subplots(1, 2, figsize=(15,5))\n",
    "        ax1.scatter(data_table['X1'], data_table['Y'])\n",
    "\n",
    "        beta0 = coefficients.tail(1)['beta0'].values[0]\n",
    "        beta1 = coefficients.tail(1)['beta1'].values[0]\n",
    "        lin_reg_x = np.linspace(0,max(data_table['X1']),100)\n",
    "        lin_reg_y = beta0 + lin_reg_x*beta1\n",
    "        ax1.plot(lin_reg_x,lin_reg_y)\n",
    "\n",
    "        ax2.scatter(predictions['Y'], predictions['PRED'])\n",
    "        max_ = max(max(predictions['PRED']), max(predictions['Y']))\n",
    "        y_x = np.linspace(0,max_,100)\n",
    "        ax2.plot(y_x, y_x)\n",
    "        plt.show()\n",
    "        \n",
    "        conn.close()\n",
    "        time.sleep(5)\n",
    "        \n",
    "        display.clear_output(wait=True)"
   ]
  },
  {
   "cell_type": "code",
   "execution_count": null,
   "metadata": {},
   "outputs": [],
   "source": []
  }
 ],
 "metadata": {
  "kernelspec": {
   "display_name": "Python 3",
   "language": "python",
   "name": "python3"
  },
  "language_info": {
   "codemirror_mode": {
    "name": "ipython",
    "version": 3
   },
   "file_extension": ".py",
   "mimetype": "text/x-python",
   "name": "python",
   "nbconvert_exporter": "python",
   "pygments_lexer": "ipython3",
   "version": "3.7.4"
  }
 },
 "nbformat": 4,
 "nbformat_minor": 2
}
