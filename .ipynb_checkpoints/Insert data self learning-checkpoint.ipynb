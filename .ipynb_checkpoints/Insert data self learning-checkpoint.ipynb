{
 "cells": [
  {
   "cell_type": "code",
   "execution_count": 1,
   "metadata": {},
   "outputs": [],
   "source": [
    "import pymysql\n",
    "import pandas as pd\n",
    "import numpy as np\n",
    "from matplotlib import pyplot as plt"
   ]
  },
  {
   "cell_type": "code",
   "execution_count": 2,
   "metadata": {},
   "outputs": [],
   "source": [
    "conn = pymysql.connect(\n",
    "host='localhost',\n",
    "port=int(3306),\n",
    "user=\"root\",\n",
    "passwd='password',\n",
    "db=\"LR\",\n",
    "charset='utf8mb4')\n",
    "\n",
    "cursor = conn.cursor()\n",
    "cursor.execute(\"DROP TABLE DATA_TABLE\")\n",
    "cursor.execute(\"DELETE FROM PREDICTIONS\")\n",
    "cursor.execute(\"DELETE FROM COEFFICIENTS\")\n",
    "cursor.execute(\"\"\"CREATE TABLE data_table (\n",
    "     ID MEDIUMINT NOT NULL AUTO_INCREMENT,\n",
    "     Y DOUBLE NOT NULL,\n",
    "     X1 DOUBLE NOT NULL,\n",
    "     PRIMARY KEY (ID)\n",
    ");\"\"\")\n",
    "conn.commit()\n",
    "cursor.close()\n",
    "conn.close()"
   ]
  },
  {
   "cell_type": "code",
   "execution_count": 70,
   "metadata": {},
   "outputs": [],
   "source": [
    "def create_insert_query(df):\n",
    "    insert_query = 'INSERT INTO data_table (Y, X1) VALUES '\n",
    "\n",
    "    for i in range(df.shape[0]):\n",
    "        insert_query += '('\n",
    "\n",
    "        for j in range(df.shape[1]):\n",
    "            insert_query += str(df[df.columns.values[j]][i]) + ', '\n",
    "\n",
    "        insert_query = insert_query[:-2] + '),'\n",
    "\n",
    "    insert_query = insert_query[:-2] + ');'\n",
    "    return insert_query"
   ]
  },
  {
   "cell_type": "code",
   "execution_count": 88,
   "metadata": {},
   "outputs": [
    {
     "data": {
      "text/plain": [
       "'INSERT INTO data_table (Y, X1) VALUES (-1.6178751317700062, 29.46650026871097),(21.952547707753332, 53.05867556052941),(-9.568502308054022, 19.152078694749484),(-25.819760500643543, 6.790035819129137),(34.89602239745001, 78.69854599999132),(26.117097272229657, 65.63335217758555),(37.5215106519327, 63.75208960436358),(45.93107291616991, 57.5602893753034),(-24.752560784773276, 3.906291618886648),(-6.6666794004827565, 35.781360448354896),(71.65651041278274, 94.56831868184075),(-37.67132502281956, 6.004468031538535),(54.22085425457422, 86.4042103546211),(42.58448296217186, 87.72905261480302),(-22.130956354363782, 5.119366562045369),(38.83063456291232, 65.24186154656549),(44.18357649751843, 55.17513686348753),(43.58394379750348, 59.7513253239051),(25.887212677750682, 48.35286243100021),(3.0319102399249545, 28.29881608569912),(5.065170937915731, 29.772571830177164),(19.15610123126308, 56.15089053263611),(14.640660845537944, 39.604743604702655),(54.03883094366043, 78.87007096788996),(10.59981553929574, 41.84843853458769);'"
      ]
     },
     "execution_count": 88,
     "metadata": {},
     "output_type": "execute_result"
    },
    {
     "data": {
      "image/png": "[encoded data removed]",
      "text/plain": [
       "<Figure size 432x288 with 1 Axes>"
      ]
     },
     "metadata": {
      "needs_background": "light"
     },
     "output_type": "display_data"
    }
   ],
   "source": [
    "np.random.seed(17)\n",
    "x = np.random.uniform(0,100,25)\n",
    "y = x + np.random.normal(0,15,25) - 30\n",
    "plt.scatter(x,y)\n",
    "df = pd.DataFrame({'y':y, 'x':x})\n",
    "insert_query = create_insert_query(df)\n",
    "insert_query"
   ]
  },
  {
   "cell_type": "code",
   "execution_count": 89,
   "metadata": {},
   "outputs": [],
   "source": [
    "conn = pymysql.connect(\n",
    "host='localhost',\n",
    "port=int(3306),\n",
    "user=\"root\",\n",
    "passwd='password',\n",
    "db=\"LR\",\n",
    "charset='utf8mb4')\n",
    "\n",
    "cursor = conn.cursor()\n",
    "cursor.execute(insert_query)\n",
    "conn.commit()\n",
    "cursor.close()\n",
    "conn.close()"
   ]
  },
  {
   "cell_type": "code",
   "execution_count": null,
   "metadata": {},
   "outputs": [],
   "source": []
  }
 ],
 "metadata": {
  "kernelspec": {
   "display_name": "Python 3",
   "language": "python",
   "name": "python3"
  },
  "language_info": {
   "codemirror_mode": {
    "name": "ipython",
    "version": 3
   },
   "file_extension": ".py",
   "mimetype": "text/x-python",
   "name": "python",
   "nbconvert_exporter": "python",
   "pygments_lexer": "ipython3",
   "version": "3.7.4"
  }
 },
 "nbformat": 4,
 "nbformat_minor": 2
}
